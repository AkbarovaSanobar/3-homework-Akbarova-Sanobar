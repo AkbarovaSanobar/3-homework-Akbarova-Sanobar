{
 "cells": [
  {
   "cell_type": "code",
   "execution_count": 1,
   "id": "ea9aaedf",
   "metadata": {},
   "outputs": [
    {
     "name": "stdout",
     "output_type": "stream",
     "text": [
      "I like apples\n"
     ]
    }
   ],
   "source": [
    "# 1-function\n",
    "x = \"apples\"\n",
    "def fruit():\n",
    "    print(\"I like \" + x)\n",
    "fruit() "
   ]
  },
  {
   "cell_type": "code",
   "execution_count": 2,
   "id": "e36a1db7",
   "metadata": {},
   "outputs": [
    {
     "name": "stdout",
     "output_type": "stream",
     "text": [
      "603\n",
      "4695\n",
      "16515\n"
     ]
    }
   ],
   "source": [
    "# 2-function\n",
    "def math(x):\n",
    "    \n",
    "    return (x**2) + x + 3 \n",
    "\n",
    "print(math(24))\n",
    "print(math(68))\n",
    "print(math(128))"
   ]
  },
  {
   "cell_type": "code",
   "execution_count": 3,
   "id": "cceb5ac5",
   "metadata": {},
   "outputs": [
    {
     "name": "stdout",
     "output_type": "stream",
     "text": [
      "50\n",
      "The speed of car is 50 km/h\n",
      "12\n",
      "The speed of car is 12 km/h\n"
     ]
    }
   ],
   "source": [
    "# 3-function\n",
    "# calculate speed of car \n",
    "s = 100\n",
    "def speed(t):\n",
    "    v = s/t\n",
    "    # s = 100 kilometr, unchangable value\n",
    "    # t is given in hours\n",
    "    print(round(v))\n",
    "    y = round(v)\n",
    "    print(f\"The speed of car is {y} km/h\") \n",
    "speed(2)\n",
    "speed(8)"
   ]
  },
  {
   "cell_type": "code",
   "execution_count": 4,
   "id": "0f27ab84",
   "metadata": {},
   "outputs": [
    {
     "name": "stdout",
     "output_type": "stream",
     "text": [
      "266002\n"
     ]
    }
   ],
   "source": [
    "# 4-function\n",
    "# exchange of dollar to sum today 29th of August 2021\n",
    "def sum(y):\n",
    "    x = y * 10640.07\n",
    "   # x = sum\n",
    "   # y = dollar\n",
    "    print(round(x))\n",
    "sum(25)\n"
   ]
  },
  {
   "cell_type": "code",
   "execution_count": 5,
   "id": "66b0f2b0",
   "metadata": {},
   "outputs": [
    {
     "name": "stdout",
     "output_type": "stream",
     "text": [
      "Enter sums in numbers: 60\n",
      "60 dollar will be 638404.2 sums\n"
     ]
    }
   ],
   "source": [
    "# 5-function\n",
    "# exchange of dollar to sum today 29th of August 2021\n",
    "def dollar_sum():\n",
    "    y = 10640.07\n",
    "    x = int(input(\"Enter sums in numbers: \"))\n",
    "    z = x * y \n",
    "       \n",
    "    print(f\"{x} dollar will be {z} sums\")\n",
    "dollar_sum()"
   ]
  },
  {
   "cell_type": "code",
   "execution_count": 12,
   "id": "8f9b9045",
   "metadata": {},
   "outputs": [
    {
     "name": "stdout",
     "output_type": "stream",
     "text": [
      "This is programmer\n"
     ]
    }
   ],
   "source": [
    "# 6-function\n",
    "def choose_profession(your_major):\n",
    "   print(\"This is \"+  your_major)\n",
    "choose_profession(\"programmer\")"
   ]
  },
  {
   "cell_type": "code",
   "execution_count": 7,
   "id": "3e2a7269",
   "metadata": {},
   "outputs": [
    {
     "name": "stdout",
     "output_type": "stream",
     "text": [
      "Sobir\n",
      "Akmal\n",
      "Umid\n",
      "Jalol\n",
      "Oygul\n",
      "Gulchekhra\n",
      "Nilufar\n"
     ]
    }
   ],
   "source": [
    "# 7-function\n",
    "\n",
    "def name_clients(name):\n",
    "    for x in name:\n",
    "     print(x)\n",
    "\n",
    "males = [\"Sobir\", \"Akmal\", \"Umid\", \"Jalol\"]\n",
    "females = [\"Oygul\", \"Gulchekhra\", \"Nilufar\"]\n",
    "name_clients(males)\n",
    "name_clients(females)"
   ]
  },
  {
   "cell_type": "code",
   "execution_count": 8,
   "id": "b3a9733a",
   "metadata": {},
   "outputs": [
    {
     "name": "stdout",
     "output_type": "stream",
     "text": [
      "True\n"
     ]
    }
   ],
   "source": [
    "# 8-function\n",
    "def ifelse(a,b):\n",
    "    if a < b: print(\"True\")\n",
    "    \n",
    "    else: print(\"False\")\n",
    "    \n",
    "ifelse(52, 84)"
   ]
  },
  {
   "cell_type": "code",
   "execution_count": 9,
   "id": "dd9ab42b",
   "metadata": {},
   "outputs": [
    {
     "data": {
      "text/plain": [
       "87"
      ]
     },
     "execution_count": 9,
     "metadata": {},
     "output_type": "execute_result"
    }
   ],
   "source": [
    "# 9-function\n",
    "def structure(a):\n",
    "    if a != 0: print(\"True\")\n",
    "          \n",
    "    else: return a + 87\n",
    "    \n",
    "structure(0)"
   ]
  },
  {
   "cell_type": "code",
   "execution_count": 11,
   "id": "64e296b5",
   "metadata": {},
   "outputs": [
    {
     "name": "stdout",
     "output_type": "stream",
     "text": [
      "I am Sanobar Akbarova\n"
     ]
    }
   ],
   "source": [
    "# 10-function\n",
    "\n",
    "def my_name(firstname, lastname):\n",
    "    print(\"I am \" + firstname + lastname)\n",
    "\n",
    "my_name(\"Sanobar \", \"Akbarova\")"
   ]
  },
  {
   "cell_type": "code",
   "execution_count": null,
   "id": "c1831d42",
   "metadata": {},
   "outputs": [],
   "source": []
  }
 ],
 "metadata": {
  "kernelspec": {
   "display_name": "Python 3",
   "language": "python",
   "name": "python3"
  },
  "language_info": {
   "codemirror_mode": {
    "name": "ipython",
    "version": 3
   },
   "file_extension": ".py",
   "mimetype": "text/x-python",
   "name": "python",
   "nbconvert_exporter": "python",
   "pygments_lexer": "ipython3",
   "version": "3.8.8"
  }
 },
 "nbformat": 4,
 "nbformat_minor": 5
}
